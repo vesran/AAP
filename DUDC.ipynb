{
 "cells": [
  {
   "cell_type": "code",
   "execution_count": 1,
   "metadata": {},
   "outputs": [],
   "source": [
    "import matplotlib.pyplot as plt"
   ]
  },
  {
   "cell_type": "markdown",
   "metadata": {},
   "source": [
    "# Branch-and-Bound algorithm for 2-dimensional plane"
   ]
  },
  {
   "cell_type": "code",
   "execution_count": 7,
   "metadata": {},
   "outputs": [
    {
     "name": "stdout",
     "output_type": "stream",
     "text": [
      "True\n",
      "False\n",
      "True\n",
      "True\n",
      "False\n"
     ]
    }
   ],
   "source": [
    "class Disk:\n",
    "    \n",
    "    def __init__(self, center):\n",
    "        self.center = center\n",
    "        \n",
    "    def contains(self, point):\n",
    "        # True if the distance between the center and the given point <= 1\n",
    "        return ((self.center[0] - point[0]) ** 2 + (self.center[1] - point[1]) ** 2) ** 0.5 <= 1\n",
    "    \n",
    "\n",
    "d = Disk((0, 0))\n",
    "print(d.contains((0.5, 0.5)))\n",
    "print(d.contains((0.5, 4.5)))\n",
    "print(d.contains((1, 0)))\n",
    "print(d.contains((0, 1)))\n",
    "print(d.contains((0, 1+0.000001)))"
   ]
  },
  {
   "cell_type": "code",
   "execution_count": 16,
   "metadata": {},
   "outputs": [
    {
     "name": "stdout",
     "output_type": "stream",
     "text": [
      "2 [(1, 1), (2, 2), (3, 3)] [<__main__.Disk object at 0x000001FBC48BF700>, <__main__.Disk object at 0x000001FBC48BF550>]\n",
      "1 {(3, 3), (2, 2)} [<__main__.Disk object at 0x000001FBC48BF550>]\n",
      "1 [(1, 1), (2, 2), (3, 3)] [<__main__.Disk object at 0x000001FBC48BF550>]\n"
     ]
    },
    {
     "data": {
      "text/plain": [
       "(<__main__.BBTree at 0x1fbc498b430>, <__main__.BBTree at 0x1fbc48bf970>)"
      ]
     },
     "execution_count": 16,
     "metadata": {},
     "output_type": "execute_result"
    }
   ],
   "source": [
    "class BBTree:\n",
    "    \n",
    "    def __init__(self, P, Q):\n",
    "        self.P = P\n",
    "        self.Q = Q\n",
    "        self.h = self.heuristic()\n",
    "        print(self.h, P, Q)\n",
    "        \n",
    "    def set_parent(self, parent):\n",
    "        self.parent = parent\n",
    "        \n",
    "    def set_children(self, children):\n",
    "        self.children = children\n",
    "    \n",
    "    def heuristic(self):\n",
    "        return len(self.Q)  # Remaining points to cover\n",
    "    \n",
    "    def split(self):\n",
    "        # Split in order of P\n",
    "        # Check leaf condition\n",
    "        if len(Q) == 0:\n",
    "            print(\"Leaf\")\n",
    "            return None\n",
    "        elif len(P) == 0:\n",
    "            print(\"No disks left.\")\n",
    "            return None\n",
    "        \n",
    "        else:\n",
    "            current_disk = self.Q[0]\n",
    "            remaining_points = set([point for point in self.P if not current_disk.contains(point)])\n",
    "            left_child = BBTree(remaining_points, self.Q[1:])  # Disk is added to the solution\n",
    "            right_child = BBTree(self.P[:], self.Q[1:])  # Disk not added, create a copy of the list of points\n",
    "            return left_child, right_child\n",
    "            \n",
    "            \n",
    "            \n",
    "def branch_and_bound(P, Q):\n",
    "    root = BBTree(P, Q)\n",
    "    to_visit = [root]\n",
    "    \n",
    "    while len(to_visit) != 0:\n",
    "        pass\n",
    "    \n",
    "\n",
    "\n",
    "P = [(1, 1), (2, 2), (3, 3)]\n",
    "Q = [Disk((1, 1.2)), Disk((2.3, 2.1))]\n",
    "\n",
    "tree = BBTree(P, Q)\n",
    "tree.split()"
   ]
  }
 ],
 "metadata": {
  "kernelspec": {
   "display_name": "boxlab",
   "language": "python",
   "name": "boxlab"
  },
  "language_info": {
   "codemirror_mode": {
    "name": "ipython",
    "version": 3
   },
   "file_extension": ".py",
   "mimetype": "text/x-python",
   "name": "python",
   "nbconvert_exporter": "python",
   "pygments_lexer": "ipython3",
   "version": "3.8.2"
  }
 },
 "nbformat": 4,
 "nbformat_minor": 4
}
