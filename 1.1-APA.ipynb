{
 "cells": [
  {
   "cell_type": "code",
   "execution_count": 34,
   "metadata": {
    "collapsed": true
   },
   "outputs": [],
   "source": [
    "import matplotlib.pyplot as plt\n",
    "import numpy as np\n",
    "import random as rand\n",
    "plt.style.use('seaborn')"
   ]
  },
  {
   "cell_type": "markdown",
   "metadata": {},
   "source": [
    "#### 1− Propose a greedy algorithm for DUDC problem in a 1-dimensional plane and prove your algorithm returns the optimal solution of DUDC in 1-dimensional plane."
   ]
  },
  {
   "cell_type": "markdown",
   "metadata": {},
   "source": [
    "**QUESTION 1**:\n",
    "\n",
    "\n",
    "**Input** : ai, bi and xj can be floats or integers \n",
    "- Array of same size intervals Q = [(a1,b1),(a2,b2),...(an,bn)] : the bounds of the interval are included\n",
    "- Array of points P = [(x1,0),(x2,0),...,(xk,0))]\n",
    "\n",
    "**Output** : A set I ⊆ Q of minimum size that covers all points in P\n",
    "\n",
    "**Pseudo-code :**\n",
    "\n",
    "**algorithm** dudcONE **is**\n",
    "1. &nbsp;sort P in ascending order\n",
    "2. &nbsp;sort Q in ascending order (= sort the intervals by their lower bound)\n",
    "3. &nbsp;counter <-- 0\n",
    "4. &nbsp;I <-- [ ]\n",
    "5. &nbsp;j <-- 0\n",
    "6. &nbsp;**for** j=1 **to** k{\n",
    "7. &nbsp;&nbsp;&nbsp;&nbsp;&nbsp; **if** I ≠ ∅ **then**\n",
    "8. &nbsp;&nbsp;&nbsp;&nbsp;&nbsp;&nbsp;&nbsp;&nbsp;&nbsp;&nbsp;**if** P[j] in the last interval added in I **then**\n",
    "9. &nbsp;&nbsp;&nbsp;&nbsp;&nbsp;&nbsp;&nbsp;&nbsp;&nbsp;&nbsp;&nbsp;&nbsp;&nbsp;&nbsp;&nbsp;&nbsp;counter <-- counter + 1\n",
    "10. &nbsp;&nbsp;&nbsp;&nbsp;&nbsp;**else if** j >= size(Q) **then**\n",
    "11. &nbsp;&nbsp;&nbsp;&nbsp;&nbsp;&nbsp;&nbsp;&nbsp;&nbsp;&nbsp;return []\n",
    "12. &nbsp;&nbsp;&nbsp;&nbsp;&nbsp;**else**\n",
    "13. &nbsp;&nbsp;&nbsp;&nbsp;&nbsp;&nbsp;&nbsp;&nbsp;&nbsp;&nbsp;tmp <-- counter\n",
    "14. &nbsp;&nbsp;&nbsp;&nbsp;&nbsp;&nbsp;&nbsp;&nbsp;&nbsp;&nbsp;**for** i=j **to** size(Q) {\n",
    "15. &nbsp;&nbsp;&nbsp;&nbsp;&nbsp;&nbsp;&nbsp;&nbsp;&nbsp;&nbsp;&nbsp;&nbsp;&nbsp;&nbsp;&nbsp;&nbsp; **if** P[j] in the interval Q[i] **then**\n",
    "16. &nbsp;&nbsp;&nbsp;&nbsp;&nbsp;&nbsp;&nbsp;&nbsp;&nbsp;&nbsp;&nbsp;&nbsp;&nbsp;&nbsp;&nbsp;&nbsp;&nbsp;&nbsp;&nbsp;&nbsp;&nbsp;&nbsp; **if** (P[j] in the interval Q[i] and not in the interval Q[i+1]) or (Q[i] is the last interval in Q) **then**\n",
    "17. &nbsp;&nbsp;&nbsp;&nbsp;&nbsp;&nbsp;&nbsp;&nbsp;&nbsp;&nbsp;&nbsp;&nbsp;&nbsp;&nbsp;&nbsp;&nbsp;&nbsp;&nbsp;&nbsp;&nbsp;&nbsp;&nbsp;&nbsp;&nbsp;&nbsp;&nbsp;&nbsp; counter <-- counter + 1\n",
    "18. &nbsp;&nbsp;&nbsp;&nbsp;&nbsp;&nbsp;&nbsp;&nbsp;&nbsp;&nbsp;&nbsp;&nbsp;&nbsp;&nbsp;&nbsp;&nbsp;&nbsp;&nbsp;&nbsp;&nbsp;&nbsp;&nbsp;&nbsp;&nbsp;&nbsp;&nbsp;&nbsp; add Q[i] to I\n",
    "19. &nbsp;&nbsp;&nbsp;&nbsp;&nbsp;&nbsp;&nbsp;&nbsp;&nbsp;&nbsp;&nbsp;&nbsp;&nbsp;&nbsp;&nbsp;&nbsp;&nbsp;&nbsp;&nbsp;&nbsp;&nbsp;&nbsp;&nbsp;&nbsp;&nbsp;&nbsp;&nbsp; break\n",
    "20. &nbsp;&nbsp;&nbsp;&nbsp;&nbsp;&nbsp;&nbsp;&nbsp;&nbsp;&nbsp;&nbsp;&nbsp;&nbsp;&nbsp;&nbsp;&nbsp; j <-- j + 1\n",
    "21. &nbsp;&nbsp;&nbsp;&nbsp;&nbsp;&nbsp;&nbsp;&nbsp;&nbsp;&nbsp;**if** tmp = counter **then**\n",
    "22. &nbsp;&nbsp;&nbsp;&nbsp;&nbsp;&nbsp;&nbsp;&nbsp;&nbsp;&nbsp;&nbsp;&nbsp;&nbsp;&nbsp;&nbsp;&nbsp;&nbsp;&nbsp;&nbsp;&nbsp;&nbsp;&nbsp;return []\n",
    "23. &nbsp;&nbsp;&nbsp;&nbsp;&nbsp;&nbsp;&nbsp;&nbsp;&nbsp;&nbsp;}\n",
    "24. &nbsp;}\n",
    "25. &nbsp;**if** counter = size(P) **then**\n",
    "26. &nbsp;&nbsp;&nbsp;&nbsp;&nbsp;&nbsp;&nbsp; return I\n",
    "27. &nbsp;**else**\n",
    "28. &nbsp;&nbsp;&nbsp;&nbsp;&nbsp;&nbsp;&nbsp; return []  <br/>"
   ]
  },
  {
   "cell_type": "markdown",
   "metadata": {},
   "source": [
    "**__________________________________________________**\n",
    " \n",
    "** Optimality proof **\n",
    "\n",
    "**__________________________________________________**\n",
    "\n",
    "Let I be the solution of our algortihm in 1-dimensional plane <br/>\n",
    "Let suppose J is the optimal solution and J ≠ I\n",
    "\n",
    "/!\\ Intervals in Q are same size /!\\ <br/>\n",
    "<br/>\n",
    "\n",
    "We can distinguish 3 cases : \n",
    "\n",
    "- **Case size(J) = size(I)** : <br/>\n",
    "Both are optimal since we are looking for a subset of minimum size that covers all points in P\n",
    "So I is optimal\n",
    "\n",
    "- **Case size(J) > size(I)** : <br/>\n",
    "Then J is not optimal\n",
    "\n",
    "- **Case size(J) < size(I)** : <br/>\n",
    "\n",
    "We have two subcases : J ⊄ I and J ⊂ I \n",
    "We will only prove one of the two since they are quite equivalent since :<br/>\n",
    "\n",
    "-> **if J ⊄ I**, I covers all the points using too more intervals than necessary and contains some different intervals than the J but it doesn't necessarily mean that they're not as \"optimal\" intervals as those in J's. (Sometimes, we  can have different set of optimal solution).<br/>\n",
    " So, I can contains 'optimal' intervals and 'useless' intervals <br/>\n",
    " \n",
    "-> **if J ⊂ I**, I covers all the points using too more intervals than necessary : the set I\\J is useless<br/>\n",
    "This case is quite the same as the previous case since it includes this one, that's why we will only study J ⊄ I.\n",
    "<br/>\n",
    "<br/>\n",
    "&nbsp;&nbsp;&nbsp;&nbsp;&nbsp;&nbsp;&nbsp;&nbsp;&nbsp;&nbsp;&nbsp;&nbsp;** IF J ⊄ I : **<br/>\n",
    "\n",
    "We consider I' such that I' = I\\ I∩J  (not interesting to study I ∩ J since optimal set)\n",
    "<br/>\n",
    "    -> a) case : ∃ **m** such that the interval **I'[m] covers ∅ point <br/>**\n",
    "    **Not possible** since an interval I'[i] is added to I' if a point belongs to it and doesn't belong to I[i+1].\n",
    "    If there is no interval in I that contains our point, we prefer a 'higher/bigger' interval in terms of lower bound that contains our point because a higher may contains some points we haven't seen yet. \n",
    "<br/>\n",
    "    So all intervals in I covers at least one point p ∈ P. <br/>\n",
    "    <br/>\n",
    "    -> b) case : ∃ **m'** such that the interval **I'[m'] covers point(s) that is already covered** and it was not necessarily to take it <br/>\n",
    "    **Not possible** since before adding any interval, we check first if it is already covered by an interval stored in I. \n",
    "    \n",
    "__Conclusion__ : <br/>\n",
    "Any other interval different from those in J, are as optimal as those in J. <br/>\n",
    "Moreover, it is not possible for I to have 'useless' intervals according a) and b) so I is optimal.<br/>\n",
    "In this way, it is not possible that size(J) < size(I) since I is optimal, so there is no less than size(I) intervals that covers all the points : J is not optimal.\n",
    "\n",
    "\n",
    "__NB__ : <br/>\n",
    "Our algorithm dudcONE returns always a list : <br/>\n",
    "-> can empty if there is no solution to our problem, or the given set Q is empty.<br/>\n",
    "-> if there is a solution, returns the optimal solution : this solution always covers all the point, since before returning any set I, it checks if the number of covered points is equal to size(P) "
   ]
  },
  {
   "cell_type": "markdown",
   "metadata": {},
   "source": [
    "#### 2− Implement your greedy algorithm for a 1-dimensional plane."
   ]
  },
  {
   "cell_type": "code",
   "execution_count": 144,
   "metadata": {},
   "outputs": [],
   "source": [
    "def dudcONE(P,Q):\n",
    "    \n",
    "    def no_cover(p):\n",
    "        print(\"We can't cover all the points\")\n",
    "        print(\"For example : the point\", p, \"is not covered\")\n",
    "        return [] \n",
    "        \n",
    "   \n",
    "    def check(p, x1, x2): # check if p if in the interval [a,b]\n",
    "        if x1 > x2: a,b = x2, x1\n",
    "        else: a,b = x1, x2\n",
    "        return (a <= p and p <= b)\n",
    "\n",
    "    P.sort()  # sort point in ascending order\n",
    "    Q.sort()  # sort the interval in ascending order\n",
    "    counter = 0\n",
    "    I = [] # optimal solution\n",
    "   \n",
    "    # we add an interval Q[i] to our set of optimation solution I if and only if\n",
    "    # no interval is bigger that Q[i] in terms of endpoints\n",
    "    j = 0\n",
    "    \n",
    "    for p in P : # for each point, we are looking for the interval that contains it\n",
    "        \n",
    "        # we first check, if temporary intervals stored in I contains our point\n",
    "        # we only need to check if the last interval contains our point since : \n",
    "        # - intervals and points are sorted in ascending order\n",
    "        # - the last interval contains the last point visited of P\n",
    "        # so intervals before the last one in I, \n",
    "        # doesn't even contain the last point visited of P \n",
    "        # and therefore cannot contain our point\n",
    "        \n",
    "        if (len(I) != 0 and check(p[0], I[len(I)-1][0], I[len(I)-1][1])):\n",
    "            counter += 1\n",
    "            \n",
    "        elif j >= len(Q): return no_cover(p)\n",
    "        \n",
    "        else: # we use j to recall the last interval we have seen \n",
    "            tmp = counter # use to check if the point p has been covered\n",
    "            for i in range(j, len(Q)):\n",
    "                if check(p[0], Q[i][0], Q[i][1]):\n",
    "                    if (i != len(Q)-1 and p[0] < Q[i+1][0]) or (i==len(Q)-1):\n",
    "                        counter += 1\n",
    "                        I.append(Q[i])\n",
    "                        break\n",
    "                j += 1\n",
    "            if tmp == counter: # => after iterated over intervals, we didn't cover the point \n",
    "                return no_cover(p)\n",
    "            \n",
    "    if counter == len(P) : return I\n",
    "    else : return []"
   ]
  },
  {
   "cell_type": "code",
   "execution_count": 145,
   "metadata": {},
   "outputs": [
    {
     "name": "stdout",
     "output_type": "stream",
     "text": [
      "[(-3, -2.1), (-0.7, 0.2), (-0.36, 0.54), (0, 0.9), (0.93, 1.83), (1.8, 2.7)]\n",
      "Interval used =  [(-3, -2.1), (-0.36, 0.54), (0.93, 1.83)]\n"
     ]
    }
   ],
   "source": [
    "#P = [(1.5,0), (2.5,0), (1.8,0), (0.3,0), (2.54,0),(0.79,0),(1.99,0)]\n",
    "#Q = [(1.2,1.6),(1.6,2),(1.8,2.2),(2.5,2.9),(0,0.4),(1.4,1.8),(0.01,0.41)]\n",
    "\n",
    "#P = [(1.5,0), (1.8,0), (0.3,0), (2.54,0),(1.99,0),(5.0,0)]\n",
    "#Q = [(1.8,2.2),(2.5,2.9),(0,0.4),(1.4,1.8),(0.01,0.41),(2.59,2.99),(4.9,5.3)]\n",
    "\n",
    "#P = [(-1.5,0), (2.5,0), (1.8,0)]\n",
    "#Q = [(-1.5, -2.5),(1.7,2.7),(2.0,3.0),(-1.2,-2.2)]\n",
    "\n",
    "#P = [(2.5,0), (2.25,0), (2.6,0), (10.1, 0), (10.8, 0)]\n",
    "#Q = [(1, 3), (2, 4), (5, 7), (10, 11), (9, 10.1)]\n",
    "\n",
    "\n",
    "P = [(-0.235,0),(0.93,0),(-2.8,0),(0.14,0),(1.78,0)]\n",
    "\n",
    "\n",
    "Q = [(-0.7,0.2),(-3,-2.1),(0,0.9),(1.8,2.7),(0.93,1.83),(-0.36,0.54)]\n",
    "Q.sort()\n",
    "print(Q)\n",
    "print(\"Interval used = \", dudcONE(P,Q))"
   ]
  },
  {
   "cell_type": "code",
   "execution_count": 18,
   "metadata": {},
   "outputs": [
    {
     "name": "stdout",
     "output_type": "stream",
     "text": [
      "Interval used =  [(0, 1), (1, 2)]\n"
     ]
    }
   ],
   "source": [
    "P1 = [(0.5,0),(1.75,0),(1,0),(2,0)]\n",
    "Q1 = [(0,1),(0.75,1.75),(1,2)]\n",
    "print(\"Interval used = \", dudc(P1,Q1))"
   ]
  },
  {
   "cell_type": "code",
   "execution_count": 19,
   "metadata": {
    "collapsed": true
   },
   "outputs": [],
   "source": [
    "%matplotlib inline\n",
    "import numpy as np\n",
    "import matplotlib.pyplot as plt\n",
    "import matplotlib.animation as animation\n",
    "from IPython.display import HTML\n",
    "from celluloid import Camera"
   ]
  }
 ],
 "metadata": {
  "kernelspec": {
   "display_name": "Python 3",
   "language": "python",
   "name": "python3"
  },
  "language_info": {
   "codemirror_mode": {
    "name": "ipython",
    "version": 3
   },
   "file_extension": ".py",
   "mimetype": "text/x-python",
   "name": "python",
   "nbconvert_exporter": "python",
   "pygments_lexer": "ipython3",
   "version": "3.6.3"
  }
 },
 "nbformat": 4,
 "nbformat_minor": 2
}
