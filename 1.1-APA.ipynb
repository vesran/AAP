{
 "cells": [
  {
   "cell_type": "code",
   "execution_count": 25,
   "metadata": {
    "collapsed": true
   },
   "outputs": [],
   "source": [
    "def dudc(P,Q):\n",
    "    P.sort()\n",
    "    Q.sort()\n",
    "    I = []\n",
    "    nb_p = 0\n",
    "    if len(Q) == 0 : \n",
    "        print(\"Q is empty set\")\n",
    "        return I\n",
    "    elif len(Q)==1 : \n",
    "        for p in P : \n",
    "            if Q[0] <= p[0] and p[0] <= Q[1] : nb_p += 1\n",
    "        if nb_p == len(P) : return Q\n",
    "    else : \n",
    "        for p in P :\n",
    "            for i in range(len(Q)):\n",
    "                if i == len(Q)-1 :\n",
    "                    if Q[i][0] <= p[0] and p[0] <= Q[i][1] : \n",
    "                        nb_p += 1\n",
    "                        I.append(Q[len(Q)-1])\n",
    "                elif p[0] <= Q[i][1] and p[0] < Q[i+1][0] : \n",
    "                    nb_p += 1 \n",
    "                    I.append(Q[i])\n",
    "                    break\n",
    "            \n",
    "        if nb_p == len(P) : return I\n",
    "        else :\n",
    "            print(\"We can't cover all the points\")\n",
    "            return I"
   ]
  },
  {
   "cell_type": "code",
   "execution_count": 26,
   "metadata": {},
   "outputs": [
    {
     "name": "stdout",
     "output_type": "stream",
     "text": [
      "Interval =  [(0.01, 0.41), (1.4, 1.8), (1.8, 2.2), (2.5, 2.9), (2.5, 2.9)]\n"
     ]
    }
   ],
   "source": [
    "P = [(1.5,0), (2.5,0), (1.8,0), (0.3,0), (2.54,0)]\n",
    "Q = [(1.2,1.6),(1.6,2),(1.8,2.2),(2.5,2.9),(0,0.4),(1.4,1.8),(0.01,0.41)]\n",
    "print(\"Interval = \", dudc(P,Q))"
   ]
  }
 ],
 "metadata": {
  "kernelspec": {
   "display_name": "Python 3",
   "language": "python",
   "name": "python3"
  },
  "language_info": {
   "codemirror_mode": {
    "name": "ipython",
    "version": 3
   },
   "file_extension": ".py",
   "mimetype": "text/x-python",
   "name": "python",
   "nbconvert_exporter": "python",
   "pygments_lexer": "ipython3",
   "version": "3.6.3"
  }
 },
 "nbformat": 4,
 "nbformat_minor": 2
}
