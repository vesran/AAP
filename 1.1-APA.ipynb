{
 "cells": [
  {
   "cell_type": "code",
   "execution_count": 13,
   "metadata": {
    "collapsed": true
   },
   "outputs": [],
   "source": [
    "import matplotlib.pyplot as plt\n",
    "import numpy as np\n",
    "import random as rand\n",
    "plt.style.use('seaborn')"
   ]
  },
  {
   "cell_type": "markdown",
   "metadata": {},
   "source": [
    "#### 1− Propose a greedy algorithm for DUDC problem in a 1-dimensional plane and prove your algorithm returns the optimal solution of DUDC in 1-dimensional plane."
   ]
  },
  {
   "cell_type": "markdown",
   "metadata": {},
   "source": [
    "**QUESTION 1**:\n",
    "\n",
    "\n",
    "**Input** : ai, bi and xj can be floats or integers \n",
    "- Array of same size intervals Q = [(a1,b1),(a2,b2),...(an,bn)] : the bounds of the interval are included\n",
    "- Array of points P = [(x1,0),(x2,0),...,(xk,0))]\n",
    "\n",
    "**Output** : A set I ⊆ Q of minimum size that covers all points in P\n",
    "\n",
    "**Pseudo-code :**\n",
    "\n",
    "**algorithm** dudcONE **is**\n",
    "1. &nbsp;sort P in ascending order\n",
    "2. &nbsp;sort Q in ascending order (= sort the intervals by their lower bound)\n",
    "3. &nbsp;counter <-- 0\n",
    "4. &nbsp;I <-- [ ]\n",
    "8. &nbsp;j <-- 0\n",
    "9. &nbsp;**for** j=1 **to** k{\n",
    "10. &nbsp;&nbsp;&nbsp;&nbsp;&nbsp; **if** I ≠ ∅ **then**\n",
    "11. &nbsp;&nbsp;&nbsp;&nbsp;&nbsp;&nbsp;&nbsp;&nbsp;&nbsp;&nbsp;**if** P[j] in the last interval added in I **then**\n",
    "12. &nbsp;&nbsp;&nbsp;&nbsp;&nbsp;&nbsp;&nbsp;&nbsp;&nbsp;&nbsp;&nbsp;&nbsp;&nbsp;&nbsp;&nbsp;&nbsp;counter <-- counter + 1\n",
    "13. &nbsp;&nbsp;&nbsp;&nbsp;&nbsp;**else**\n",
    "14. &nbsp;&nbsp;&nbsp;&nbsp;&nbsp;&nbsp;&nbsp;&nbsp;&nbsp;&nbsp;**for** i=1 **to** size(Q) {\n",
    "15. &nbsp;&nbsp;&nbsp;&nbsp;&nbsp;&nbsp;&nbsp;&nbsp;&nbsp;&nbsp;&nbsp;&nbsp;&nbsp;&nbsp;&nbsp;&nbsp; j <-- j + 1\n",
    "16. &nbsp;&nbsp;&nbsp;&nbsp;&nbsp;&nbsp;&nbsp;&nbsp;&nbsp;&nbsp;&nbsp;&nbsp;&nbsp;&nbsp;&nbsp;&nbsp; **if** P[j] in the interval Q[i] **then**\n",
    "17. &nbsp;&nbsp;&nbsp;&nbsp;&nbsp;&nbsp;&nbsp;&nbsp;&nbsp;&nbsp;&nbsp;&nbsp;&nbsp;&nbsp;&nbsp;&nbsp;&nbsp;&nbsp;&nbsp;&nbsp;&nbsp;&nbsp; **if** P[j] in the interval Q[i] and not in the interval Q[i+1] **then**\n",
    "18. &nbsp;&nbsp;&nbsp;&nbsp;&nbsp;&nbsp;&nbsp;&nbsp;&nbsp;&nbsp;&nbsp;&nbsp;&nbsp;&nbsp;&nbsp;&nbsp;&nbsp;&nbsp;&nbsp;&nbsp;&nbsp;&nbsp;&nbsp;&nbsp;&nbsp;&nbsp;&nbsp; counter <-- counter + 1\n",
    "19. &nbsp;&nbsp;&nbsp;&nbsp;&nbsp;&nbsp;&nbsp;&nbsp;&nbsp;&nbsp;&nbsp;&nbsp;&nbsp;&nbsp;&nbsp;&nbsp;&nbsp;&nbsp;&nbsp;&nbsp;&nbsp;&nbsp;&nbsp;&nbsp;&nbsp;&nbsp;&nbsp; add Q[i] to I\n",
    "20. &nbsp;&nbsp;&nbsp;&nbsp;&nbsp;&nbsp;&nbsp;&nbsp;&nbsp;&nbsp;&nbsp;&nbsp;&nbsp;&nbsp;&nbsp;&nbsp;&nbsp;&nbsp;&nbsp;&nbsp;&nbsp;&nbsp;&nbsp;&nbsp;&nbsp;&nbsp;&nbsp; break\n",
    "21. &nbsp;&nbsp;&nbsp;&nbsp;&nbsp;&nbsp;&nbsp;&nbsp;&nbsp;&nbsp;}\n",
    "22. &nbsp;}\n",
    "23. &nbsp;**if** counter = size(P) **then**\n",
    "24. &nbsp;&nbsp;&nbsp;&nbsp;&nbsp;&nbsp;&nbsp; return I\n",
    "25. &nbsp;**else**\n",
    "26. &nbsp;&nbsp;&nbsp;&nbsp;&nbsp;&nbsp;&nbsp; return []  \n",
    "\n",
    "<br/>"
   ]
  },
  {
   "cell_type": "markdown",
   "metadata": {},
   "source": [
    "**__________________________________________________**\n",
    " \n",
    "** Optimality proof **\n",
    "\n",
    "**__________________________________________________**\n",
    "\n",
    "Let I be the solution of our algortihm in 1-dimensional plane <br/>\n",
    "Let suppose J is the optimal solution and J ≠ I\n",
    "\n",
    "We can distinguish 3 cases : \n",
    "\n",
    "- **Case size(J) = size(I)** : <br/>\n",
    "Both are optimal since we are looking for a subset of minimum size that covers all points in P\n",
    "So I is optimal\n",
    "\n",
    "- **Case size(J) > size(I)** : <br/>\n",
    "Then J is not optimal\n",
    "\n",
    "- **Case size(J) < size(I)** : <br/>\n",
    "\n",
    "We have two subcases : J ⊄ I and J ⊂ I \n",
    "We will only prove one of the two since they are quite equivalent since :<br/>\n",
    "\n",
    "-> **if J ⊄ I**, I covers all the points using too more intervals than necessary and contains some different intervals than the J but it doesn't necessarily mean that they're not as \"optimal\" intervals as those in J's. (Sometimes, we  can have different set of optimal solution).<br/>\n",
    " So, I can contains 'optimal' intervals and 'useless' intervals <br/>\n",
    " \n",
    "-> **if J ⊂ I**, I covers all the points using too more intervals than necessary : the set I\\J is useless<br/>\n",
    "This case is quite the same as the previous case since it includes this one, that's why we will only study J ⊄ I.\n",
    "<br/>\n",
    "<br/>\n",
    "&nbsp;&nbsp;&nbsp;&nbsp;&nbsp;&nbsp;&nbsp;&nbsp;&nbsp;&nbsp;&nbsp;&nbsp;** IF J ⊄ I : **<br/>\n",
    "\n",
    "We consider I' such that I' = I\\ I∩J  (not interesting to study I ∩ J since optimal set)\n",
    "<br/>\n",
    "    -> a) case : ∃ **m** such that the interval **I'[m] covers ∅ point <br/>**\n",
    "    **Not possible** since an interval I'[i] is added to I' if a point belongs to it and doesn't belong to I[i+1].<br/>\n",
    "    So all intervals in I covers at least one point p ∈ P. <br/>\n",
    "    <br/>\n",
    "    -> b) case : ∃ **m'** such that the interval **I'[m'] covers point(s) that is already covered** and it was not necessarily to take it <br/>\n",
    "    **Not possible** since before adding any interval, we check first if it is already covered by an interval stored in I. \n",
    "    \n",
    "Conclusion : <br/>\n",
    "Any other interval different from those in J, are as optimal as those in J. <br/>\n",
    "Moreover, it is not possible for I to have 'useless' intervals according a) and b) so I is optimal.<br/>\n",
    "In this way, it is not possible that size(J) < size(I) since I is optimal, so there is no less than size(I) intervals that covers all the points : J is not optimal."
   ]
  },
  {
   "cell_type": "markdown",
   "metadata": {},
   "source": [
    "#### 2− Implement your greedy algorithm for a 1-dimensional plane."
   ]
  },
  {
   "cell_type": "code",
   "execution_count": 11,
   "metadata": {
    "collapsed": true
   },
   "outputs": [],
   "source": [
    "def dudcONE(P,Q):\n",
    "    \n",
    "    def add(I, item):\n",
    "        if item not in I: # if the interval is not already in the set I, we add it\n",
    "            I.append(item)\n",
    "\n",
    "    def check(p, a, b): # check if p if in the interval [a,b]\n",
    "        return (a <= p and p <= b)\n",
    "\n",
    "    P.sort()  # sort point in ascending order\n",
    "    Q.sort()  # sort the interval in ascending order \n",
    "    nb_p = 0\n",
    "    I = [] # optimal solution\n",
    "   \n",
    "    # we add an interval Q[i] to our set of optimation solution I if and only if\n",
    "    # no interval is bigger that Q[i] in terms of endpoints\n",
    "    j = 0\n",
    "    for p in P : # for each point, we are looking for the interval that contains it\n",
    "        # we first check, if temporary intervals stored in I contains our point\n",
    "        # our set of intervals and points are sorted in ascending order\n",
    "        # so the current point is greater or equal the point before\n",
    "        # \n",
    "        # so an interval has been add to I, only if it covers a point\n",
    "        # but we iterate over the set of points in ascending order, \n",
    "        # that means the current point is greater or equal the point before\n",
    "        # \n",
    "        if (len(I) != 0 and check(p[0], I[len(I)-1][0], I[len(I)-1][1])):\n",
    "            nb_p += 1\n",
    "        else: # we use j to recall the last interval we have seen \n",
    "            for i in range(j, len(Q)):\n",
    "                j += 1\n",
    "                if check(p[0], Q[i][0], Q[i][1]):\n",
    "                    if (i != len(Q)-1 and p[0] < Q[i+1][0]) or (i==len(Q)-1):\n",
    "                        nb_p += 1\n",
    "                        add(I, Q[i])\n",
    "                        break\n",
    "                else:\n",
    "                    print(\"We can't cover all the points\")\n",
    "                    print(\"For example :\", p, \"is not covered\")\n",
    "                    return []\n",
    "    if nb_p == len(P) : return I\n",
    "    else : return []"
   ]
  },
  {
   "cell_type": "code",
   "execution_count": 12,
   "metadata": {},
   "outputs": [
    {
     "name": "stdout",
     "output_type": "stream",
     "text": [
      "Interval used =  [(1.5, 2.5)]\n"
     ]
    }
   ],
   "source": [
    "#P = [(1.5,0), (2.5,0), (1.8,0), (0.3,0), (2.54,0),(0.79,0),(1.99,0)]\n",
    "#Q = [(1.2,1.6),(1.6,2),(1.8,2.2),(2.5,2.9),(0,0.4),(1.4,1.8),(0.01,0.41)]\n",
    "P = [(1.5,0), (2.5,0), (1.8,0)]\n",
    "Q = [(1.5, 2.5)]\n",
    "print(\"Interval used = \", dudc(P,Q))"
   ]
  },
  {
   "cell_type": "code",
   "execution_count": 118,
   "metadata": {},
   "outputs": [
    {
     "name": "stdout",
     "output_type": "stream",
     "text": [
      "new Q [(0, 1), (0.75, 1.75), (1, 2)]\n",
      "Interval used =  [(0, 1), (1, 2)]\n"
     ]
    }
   ],
   "source": [
    "P1 = [(0.5,0),(1.75,0),(1,0),(2,0)]\n",
    "Q1 = [(0,1),(0.75,1.75),(1,2)]\n",
    "print(\"Interval used = \", dudc(P1,Q1))"
   ]
  }
 ],
 "metadata": {
  "kernelspec": {
   "display_name": "Python 3",
   "language": "python",
   "name": "python3"
  },
  "language_info": {
   "codemirror_mode": {
    "name": "ipython",
    "version": 3
   },
   "file_extension": ".py",
   "mimetype": "text/x-python",
   "name": "python",
   "nbconvert_exporter": "python",
   "pygments_lexer": "ipython3",
   "version": "3.6.3"
  }
 },
 "nbformat": 4,
 "nbformat_minor": 2
}
