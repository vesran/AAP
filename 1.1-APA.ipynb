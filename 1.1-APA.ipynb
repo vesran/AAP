{
 "cells": [
  {
   "cell_type": "code",
   "execution_count": 3,
   "metadata": {
    "collapsed": true
   },
   "outputs": [],
   "source": [
    "import matplotlib.pyplot as plt\n",
    "import numpy as np\n",
    "import random as rand\n",
    "plt.style.use('seaborn')"
   ]
  },
  {
   "cell_type": "code",
   "execution_count": 4,
   "metadata": {
    "collapsed": true
   },
   "outputs": [],
   "source": [
    "def dudc(P,Q):\n",
    "    P.sort()\n",
    "    Q.sort()\n",
    "    I = []\n",
    "    nb_p = 0\n",
    "    if len(Q) == 0 : \n",
    "        print(\"Q is empty set\")\n",
    "        return I\n",
    "    elif len(Q)==1 : \n",
    "        for p in P : \n",
    "            if Q[0] <= p[0] and p[0] <= Q[1] : nb_p += 1\n",
    "        if nb_p == len(P) : return Q\n",
    "    else : \n",
    "        for p in P :\n",
    "            for i in range(len(Q)):\n",
    "                if i == len(Q)-1 :\n",
    "                    if Q[i][0] <= p[0] and p[0] <= Q[i][1] : \n",
    "                        nb_p += 1\n",
    "                        I.append(Q[len(Q)-1])\n",
    "                elif p[0] <= Q[i][1] and p[0] < Q[i+1][0] : \n",
    "                    nb_p += 1 \n",
    "                    I.append(Q[i])\n",
    "                    break\n",
    "            \n",
    "        if nb_p == len(P) : return I\n",
    "        else :\n",
    "            print(\"We can't cover all the points\")\n",
    "            return I"
   ]
  },
  {
   "cell_type": "code",
   "execution_count": 5,
   "metadata": {},
   "outputs": [
    {
     "name": "stdout",
     "output_type": "stream",
     "text": [
      "Interval =  [(0.01, 0.41), (1.4, 1.8), (1.8, 2.2), (2.5, 2.9), (2.5, 2.9)]\n"
     ]
    }
   ],
   "source": [
    "P = [(1.5,0), (2.5,0), (1.8,0), (0.3,0), (2.54,0)]\n",
    "Q = [(1.2,1.6),(1.6,2),(1.8,2.2),(2.5,2.9),(0,0.4),(1.4,1.8),(0.01,0.41)]\n",
    "print(\"Interval = \", dudc(P,Q))"
   ]
  },
  {
   "cell_type": "code",
   "execution_count": 6,
   "metadata": {
    "collapsed": true
   },
   "outputs": [],
   "source": [
    "class Circle:\n",
    "    \n",
    "    def __init__(self, center,  radius=1):\n",
    "        self.center = center\n",
    "        self.radius = radius\n",
    "        self.covered = None\n",
    "\n",
    "    def cover_point(self, point):\n",
    "        return (((self.center[0] - point[0]) ** 2 + (self.center[1] - point[1]) ** 2) ** 0.5 <= self.radius)"
   ]
  },
  {
   "cell_type": "code",
   "execution_count": 7,
   "metadata": {
    "collapsed": true
   },
   "outputs": [],
   "source": [
    "class Node(object):\n",
    "    \n",
    "    def __init__(self, parent, value, used_circles, name=(0,0)):\n",
    "        self.parent = parent\n",
    "        self.name = name\n",
    "        self.value = value\n",
    "        self.used_circles = used_circles\n",
    "        self.child1 = None # take\n",
    "        self.child2 = None # don't take\n",
    "    \n",
    "    def add_child(self, circle):\n",
    "        self.child1 = Node(self, self.value, self.used_circles, (self.name[0]+1,1))\n",
    "        used_circles = list(self.used_circles)\n",
    "        used_circles.remove(circle)\n",
    "        self.child2 = Node(self, self.value-1, used_circles, (self.name[0]+1,2))\n",
    "    \n",
    "    def coveredPoints(self, P):\n",
    "        for i in self.used_circles :\n",
    "            nb = 0\n",
    "            for p in P:\n",
    "                for circle in self.used_circles:\n",
    "                    if circle.cover_point(p):\n",
    "                        nb += 1\n",
    "                        break\n",
    "        return nb\n",
    "            \n",
    "class Tree:\n",
    "    \n",
    "    def __init__(self, root, P, Q):\n",
    "        self.root = root\n",
    "        self.P = P\n",
    "        self.Q = Q\n",
    "        self.best_sol = Q\n",
    "    \n",
    "    def isRealisable(self):\n",
    "        if len(P) != self.root.coveredPoints(self.P): return False\n",
    "        return True\n",
    "    \n",
    "    def isSatisfied(self, node):\n",
    "        return ((node.coveredPoints(self.P) == len(P)) and node.value <= len(self.best_sol))\n",
    "        \n",
    "\n",
    "def createTree(P,Q):\n",
    "    def count(disk, P):\n",
    "        return sum([int(disk.cover_point(p)) for p in P])\n",
    "    \n",
    "    dictDisk = dict()\n",
    "    for disk in Q :dictDisk[disk] = count(disk,P)\n",
    "    circles = [item[0] for item in sorted(dictDisk.items() ,  key=lambda x: x[1], reverse=True)]\n",
    "    i = 0\n",
    "    tree = Tree(Node(None, len(Q), circles),P,Q)\n",
    "    currentNode = tree.root\n",
    "    if tree.isRealisable():\n",
    "        for circle in circles : \n",
    "            currentNode.add_child(circle)\n",
    "            if tree.isSatisfied(currentNode.child2):\n",
    "                tree.best_sol = currentNode.child2.used_circles\n",
    "                toVisit = currentNode.child2\n",
    "            if tree.isSatisfied(currentNode.child1) :\n",
    "                tree.best_sol = currentNode.child1.used_circles\n",
    "                toVisit = currentNode.child1\n",
    "            currentNode = toVisit\n",
    "    return tree"
   ]
  },
  {
   "cell_type": "code",
   "execution_count": 8,
   "metadata": {
    "collapsed": true
   },
   "outputs": [],
   "source": [
    "P = [(1.5, 2.5), (3.5, 3.5), (4.5, 2.5), (4.5, 3.5), (5.5, 3.5), (5.5, 3.4), (1.5, 2.6), (2, 1)]\n",
    "Q = [Circle((0, 0)), Circle((2, 2)), Circle((4.5, 2)), Circle((5, 3)), Circle((6, 4)), Circle((4,3))]"
   ]
  },
  {
   "cell_type": "code",
   "execution_count": 9,
   "metadata": {},
   "outputs": [
    {
     "name": "stdout",
     "output_type": "stream",
     "text": [
      "(0, 0)\n",
      "(5, 3) (2, 2) (4, 3) (6, 4) (4.5, 2) (0, 0) \n",
      "(1, 1)\n",
      "(5, 3) (2, 2) (4, 3) (6, 4) (4.5, 2) (0, 0) \n",
      "(1, 2)\n",
      "(2, 2) (4, 3) (6, 4) (4.5, 2) (0, 0) \n",
      "(2, 1)\n",
      "(2, 2) (4, 3) (6, 4) (4.5, 2) (0, 0) \n",
      "(2, 2)\n",
      "(4, 3) (6, 4) (4.5, 2) (0, 0) \n",
      "(3, 1)\n",
      "(2, 2) (4, 3) (6, 4) (4.5, 2) (0, 0) \n",
      "(3, 2)\n",
      "(2, 2) (6, 4) (4.5, 2) (0, 0) \n",
      "(4, 1)\n",
      "(2, 2) (4, 3) (6, 4) (4.5, 2) (0, 0) \n",
      "(4, 2)\n",
      "(2, 2) (4, 3) (4.5, 2) (0, 0) \n",
      "(5, 1)\n",
      "(2, 2) (4, 3) (6, 4) (4.5, 2) (0, 0) \n",
      "(5, 2)\n",
      "(2, 2) (4, 3) (6, 4) (0, 0) \n",
      "(6, 1)\n",
      "(2, 2) (4, 3) (6, 4) (0, 0) \n",
      "(6, 2)\n",
      "(2, 2) (4, 3) (6, 4) \n"
     ]
    }
   ],
   "source": [
    "tree = createTree(P,Q)\n",
    "toVisit = [tree.root]\n",
    "while toVisit != []:\n",
    "    current = toVisit[0]\n",
    "    print(current.name)\n",
    "    for circle in current.used_circles: print(circle.center, end = \" \")\n",
    "    print()\n",
    "    if current.child1 != None :\n",
    "        toVisit.append(current.child1)\n",
    "    if current.child2 != None :\n",
    "        toVisit.append(current.child2)\n",
    "    toVisit.pop(0)"
   ]
  }
 ],
 "metadata": {
  "kernelspec": {
   "display_name": "Python 3",
   "language": "python",
   "name": "python3"
  },
  "language_info": {
   "codemirror_mode": {
    "name": "ipython",
    "version": 3
   },
   "file_extension": ".py",
   "mimetype": "text/x-python",
   "name": "python",
   "nbconvert_exporter": "python",
   "pygments_lexer": "ipython3",
   "version": "3.6.3"
  }
 },
 "nbformat": 4,
 "nbformat_minor": 2
}
